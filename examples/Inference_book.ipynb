{
 "cells": [
  {
   "cell_type": "code",
   "execution_count": null,
   "metadata": {},
   "outputs": [],
   "source": [
    "import sys\n",
    "sys.path.append('../src')\n",
    "\n",
    "import os"
   ]
  },
  {
   "cell_type": "code",
   "execution_count": null,
   "metadata": {},
   "outputs": [],
   "source": [
    "from read_data import Data\n",
    "from analysis import analysis\n",
    "from predictions import predict\n",
    "import numpy as np\n",
    "import pandas as pd\n",
    "%matplotlib inline"
   ]
  },
  {
   "cell_type": "code",
   "execution_count": null,
   "metadata": {},
   "outputs": [],
   "source": [
    "model_path = '/users/rkakodka/Automated_analysis_of_zebrafish/testing_zebrafish_video-Rohit-2020-10-05/exported-models/DLC_testing_zebrafish_video_resnet_50_iteration-0_shuffle-1/snapshot-300000.pb'\n",
    "image_folder = os.path.join(os.getcwd(), '..', 'data/96_well_plate/images/')\n",
    "images = Data(image_folder + 'IMG_%04d.JPG')\n",
    "experiment = analysis(images)\n",
    "infer = predict(images, experiment, model_path)"
   ]
  },
  {
   "cell_type": "code",
   "execution_count": null,
   "metadata": {},
   "outputs": [],
   "source": [
    "sess, output, input = infer.get_session()"
   ]
  },
  {
   "cell_type": "code",
   "execution_count": null,
   "metadata": {},
   "outputs": [],
   "source": [
    "ret, frame, img_no = images.read()"
   ]
  },
  {
   "cell_type": "code",
   "execution_count": null,
   "metadata": {},
   "outputs": [],
   "source": [
    "wells = experiment.detect_wells(R = [72, 108], image=frame)"
   ]
  },
  {
   "cell_type": "code",
   "execution_count": null,
   "metadata": {},
   "outputs": [],
   "source": [
    "experiment.plot_wells(image = frame, wells = wells)"
   ]
  },
  {
   "cell_type": "code",
   "execution_count": null,
   "metadata": {},
   "outputs": [],
   "source": [
    "def predict_image(image, wells, sess, input, output):\n",
    "\n",
    "    well_ind, data = experiment.crop_wells(wells, image)\n",
    "    predictions = sess.run(output, feed_dict = {input : data})\n",
    "    \n",
    "    predictions = np.asarray(predictions).reshape(3, len(wells), 3)\n",
    "    predictions = (predictions.view([(f'f{i}',predictions.dtype) \n",
    "                                     for i in range(predictions.shape[-1])])[...,0].astype('O'))\n",
    "    \n",
    "    predicted_image = pd.DataFrame(predictions.transpose(), columns = ['right_eye', 'left_eye', 'yolk'], \n",
    "                                   index = pd.MultiIndex.from_tuples(well_ind))\n",
    "    \n",
    "    return predicted_image\n",
    "\n",
    "predicted_image = predict_image(frame, wells, sess, input, output)"
   ]
  },
  {
   "cell_type": "code",
   "execution_count": null,
   "metadata": {},
   "outputs": [],
   "source": [
    "%%time\n",
    "\n",
    "predictions = infer.predict(wells = wells)"
   ]
  },
  {
   "cell_type": "code",
   "execution_count": null,
   "metadata": {},
   "outputs": [],
   "source": [
    "predictions.head()"
   ]
  },
  {
   "cell_type": "code",
   "execution_count": null,
   "metadata": {},
   "outputs": [],
   "source": [
    "predicted_image"
   ]
  },
  {
   "cell_type": "code",
   "execution_count": null,
   "metadata": {},
   "outputs": [],
   "source": [
    "%%time\n",
    "\n",
    "well_ind, data = experiment.crop_wells(wells, frame)"
   ]
  },
  {
   "cell_type": "code",
   "execution_count": null,
   "metadata": {},
   "outputs": [],
   "source": [
    "%%time\n",
    "\n",
    "predictions = sess.run(output, feed_dict = {input : data})"
   ]
  },
  {
   "cell_type": "code",
   "execution_count": null,
   "metadata": {},
   "outputs": [],
   "source": [
    "%%time\n",
    "predictions = np.asarray(predictions).reshape(3, len(wells), 3)\n",
    "predictions = (predictions.view([(f'f{i}',predictions.dtype) \n",
    "                                     for i in range(predictions.shape[-1])])[...,0].astype('O'))\n",
    "    \n",
    "predicted_image = pd.DataFrame(predictions.transpose(), columns = ['right_eye', 'left_eye', 'yolk'], \n",
    "                                   index = pd.MultiIndex.from_tuples(well_ind))"
   ]
  },
  {
   "cell_type": "code",
   "execution_count": null,
   "metadata": {},
   "outputs": [],
   "source": []
  }
 ],
 "metadata": {
  "kernelspec": {
   "display_name": "Python 3",
   "language": "python",
   "name": "python3"
  },
  "language_info": {
   "codemirror_mode": {
    "name": "ipython",
    "version": 3
   },
   "file_extension": ".py",
   "mimetype": "text/x-python",
   "name": "python",
   "nbconvert_exporter": "python",
   "pygments_lexer": "ipython3",
   "version": "3.7.6"
  }
 },
 "nbformat": 4,
 "nbformat_minor": 4
}
